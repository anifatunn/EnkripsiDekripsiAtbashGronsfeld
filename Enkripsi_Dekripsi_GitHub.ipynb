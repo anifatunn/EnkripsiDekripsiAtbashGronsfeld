{
  "nbformat": 4,
  "nbformat_minor": 0,
  "metadata": {
    "colab": {
      "provenance": [],
      "authorship_tag": "ABX9TyOevOj9n3vn+uwjiwrqUSHV",
      "include_colab_link": true
    },
    "kernelspec": {
      "name": "python3",
      "display_name": "Python 3"
    },
    "language_info": {
      "name": "python"
    }
  },
  "cells": [
    {
      "cell_type": "markdown",
      "metadata": {
        "id": "view-in-github",
        "colab_type": "text"
      },
      "source": [
        "<a href=\"https://colab.research.google.com/github/anifatunn/EnkripsiDekripsiAtbashGronsfeld/blob/main/Enkripsi_Dekripsi_GitHub.ipynb\" target=\"_parent\"><img src=\"https://colab.research.google.com/assets/colab-badge.svg\" alt=\"Open In Colab\"/></a>"
      ]
    },
    {
      "source": [
        "def atbash_cipher(text):\n",
        "    result = \"\"\n",
        "    for char in text:\n",
        "        if char.isalpha():\n",
        "            base = ord('A') if char.isupper() else ord('a')\n",
        "            result += chr(base + (25 - (ord(char) - base)))\n",
        "        else:\n",
        "            result += char\n",
        "    return result\n",
        "\n",
        "def gronsfeld_encrypt(text, key):\n",
        "    result = \"\"\n",
        "    key_digits = [int(d) for d in key]\n",
        "    for i, char in enumerate(text):\n",
        "        if char.isalpha():\n",
        "            shift = key_digits[i % len(key)]\n",
        "            base = ord('A') if char.isupper() else ord('a')\n",
        "            result += chr((ord(char) - base + shift) % 26 + base)\n",
        "        else:\n",
        "            result += char\n",
        "    return result\n",
        "\n",
        "def gronsfeld_decrypt(text, key):\n",
        "    result = \"\"\n",
        "    key_digits = [int(d) for d in key]\n",
        "    for i, char in enumerate(text):\n",
        "        if char.isalpha():\n",
        "            shift = key_digits[i % len(key)]\n",
        "            base = ord('A') if char.isupper() else ord('a')\n",
        "            result += chr((ord(char) - base - shift) % 26 + base)\n",
        "        else:\n",
        "            result += char\n",
        "    return result"
      ],
      "cell_type": "code",
      "metadata": {
        "id": "ZAcAXktxGaaG"
      },
      "execution_count": 4,
      "outputs": []
    },
    {
      "source": [
        "from IPython import get_ipython\n",
        "from IPython.display import display\n",
        "\n",
        "def main():\n",
        "    print(\"Pilih mode:\")\n",
        "    print(\"1. Enkripsi (Gronsfeld + Atbash)\")\n",
        "    print(\"2. Dekripsi (Atbash + Gronsfeld)\")\n",
        "    choice = input(\"Pilihan (1/2): \")\n",
        "\n",
        "    text = input(\"Masukkan teks: \")\n",
        "    key = input(\"Masukkan key angka (Gronsfeld): \")\n",
        "\n",
        "    if choice == \"1\":\n",
        "        step1 = gronsfeld_encrypt(text, key)\n",
        "        final = atbash_cipher(step1)\n",
        "        print(\"Hasil enkripsi:\", final)\n",
        "    elif choice == \"2\":\n",
        "        step1 = atbash_cipher(text)\n",
        "        final = gronsfeld_decrypt(step1, key)\n",
        "        print(\"Hasil dekripsi:\", final)\n",
        "    else:\n",
        "        print(\"Pilihan tidak valid.\")\n",
        "\n",
        "if __name__ == \"__main__\":\n",
        "    main()"
      ],
      "cell_type": "code",
      "metadata": {
        "colab": {
          "base_uri": "https://localhost:8080/"
        },
        "id": "XLBad-kTGeSC",
        "outputId": "6d9a5c22-8040-40e0-9228-232dd4055c29"
      },
      "execution_count": 7,
      "outputs": [
        {
          "output_type": "stream",
          "name": "stdout",
          "text": [
            "Pilih mode:\n",
            "1. Enkripsi (Gronsfeld + Atbash)\n",
            "2. Dekripsi (Atbash + Gronsfeld)\n",
            "Pilihan (1/2): 1\n",
            "Masukkan teks: selamat malam\n",
            "Masukkan key angka (Gronsfeld): 123\n",
            "Hasil enkripsi: gtlylwf kymwm\n"
          ]
        }
      ]
    }
  ]
}