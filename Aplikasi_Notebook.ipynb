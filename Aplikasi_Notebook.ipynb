{
  "nbformat": 4,
  "nbformat_minor": 0,
  "metadata": {
    "colab": {
      "provenance": [],
      "authorship_tag": "ABX9TyPnuoDqJ6p/xROBeQKIe1bz",
      "include_colab_link": true
    },
    "kernelspec": {
      "name": "python3",
      "display_name": "Python 3"
    },
    "language_info": {
      "name": "python"
    }
  },
  "cells": [
    {
      "cell_type": "markdown",
      "metadata": {
        "id": "view-in-github",
        "colab_type": "text"
      },
      "source": [
        "<a href=\"https://colab.research.google.com/github/anifatunn/EnkripsiDekripsiAtbashGronsfeld/blob/main/Aplikasi_Notebook.ipynb\" target=\"_parent\"><img src=\"https://colab.research.google.com/assets/colab-badge.svg\" alt=\"Open In Colab\"/></a>"
      ]
    },
    {
      "cell_type": "code",
      "execution_count": null,
      "metadata": {
        "colab": {
          "base_uri": "https://localhost:8080/"
        },
        "id": "gJ1Ibx6JBUni",
        "outputId": "f9ebbeb0-5ded-41b9-9ff0-40adb400e29f"
      },
      "outputs": [
        {
          "output_type": "stream",
          "name": "stdout",
          "text": [
            "Requirement already satisfied: gradio in /usr/local/lib/python3.11/dist-packages (5.25.2)\n",
            "Requirement already satisfied: aiofiles<25.0,>=22.0 in /usr/local/lib/python3.11/dist-packages (from gradio) (24.1.0)\n",
            "Requirement already satisfied: anyio<5.0,>=3.0 in /usr/local/lib/python3.11/dist-packages (from gradio) (4.9.0)\n",
            "Requirement already satisfied: fastapi<1.0,>=0.115.2 in /usr/local/lib/python3.11/dist-packages (from gradio) (0.115.12)\n",
            "Requirement already satisfied: ffmpy in /usr/local/lib/python3.11/dist-packages (from gradio) (0.5.0)\n",
            "Requirement already satisfied: gradio-client==1.8.0 in /usr/local/lib/python3.11/dist-packages (from gradio) (1.8.0)\n",
            "Requirement already satisfied: groovy~=0.1 in /usr/local/lib/python3.11/dist-packages (from gradio) (0.1.2)\n",
            "Requirement already satisfied: httpx>=0.24.1 in /usr/local/lib/python3.11/dist-packages (from gradio) (0.28.1)\n",
            "Requirement already satisfied: huggingface-hub>=0.28.1 in /usr/local/lib/python3.11/dist-packages (from gradio) (0.30.2)\n",
            "Requirement already satisfied: jinja2<4.0 in /usr/local/lib/python3.11/dist-packages (from gradio) (3.1.6)\n",
            "Requirement already satisfied: markupsafe<4.0,>=2.0 in /usr/local/lib/python3.11/dist-packages (from gradio) (3.0.2)\n",
            "Requirement already satisfied: numpy<3.0,>=1.0 in /usr/local/lib/python3.11/dist-packages (from gradio) (2.0.2)\n",
            "Requirement already satisfied: orjson~=3.0 in /usr/local/lib/python3.11/dist-packages (from gradio) (3.10.16)\n",
            "Requirement already satisfied: packaging in /usr/local/lib/python3.11/dist-packages (from gradio) (24.2)\n",
            "Requirement already satisfied: pandas<3.0,>=1.0 in /usr/local/lib/python3.11/dist-packages (from gradio) (2.2.2)\n",
            "Requirement already satisfied: pillow<12.0,>=8.0 in /usr/local/lib/python3.11/dist-packages (from gradio) (11.1.0)\n",
            "Requirement already satisfied: pydantic<2.12,>=2.0 in /usr/local/lib/python3.11/dist-packages (from gradio) (2.11.3)\n",
            "Requirement already satisfied: pydub in /usr/local/lib/python3.11/dist-packages (from gradio) (0.25.1)\n",
            "Requirement already satisfied: python-multipart>=0.0.18 in /usr/local/lib/python3.11/dist-packages (from gradio) (0.0.20)\n",
            "Requirement already satisfied: pyyaml<7.0,>=5.0 in /usr/local/lib/python3.11/dist-packages (from gradio) (6.0.2)\n",
            "Requirement already satisfied: ruff>=0.9.3 in /usr/local/lib/python3.11/dist-packages (from gradio) (0.11.6)\n",
            "Requirement already satisfied: safehttpx<0.2.0,>=0.1.6 in /usr/local/lib/python3.11/dist-packages (from gradio) (0.1.6)\n",
            "Requirement already satisfied: semantic-version~=2.0 in /usr/local/lib/python3.11/dist-packages (from gradio) (2.10.0)\n",
            "Requirement already satisfied: starlette<1.0,>=0.40.0 in /usr/local/lib/python3.11/dist-packages (from gradio) (0.46.2)\n",
            "Requirement already satisfied: tomlkit<0.14.0,>=0.12.0 in /usr/local/lib/python3.11/dist-packages (from gradio) (0.13.2)\n",
            "Requirement already satisfied: typer<1.0,>=0.12 in /usr/local/lib/python3.11/dist-packages (from gradio) (0.15.2)\n",
            "Requirement already satisfied: typing-extensions~=4.0 in /usr/local/lib/python3.11/dist-packages (from gradio) (4.13.2)\n",
            "Requirement already satisfied: uvicorn>=0.14.0 in /usr/local/lib/python3.11/dist-packages (from gradio) (0.34.2)\n",
            "Requirement already satisfied: fsspec in /usr/local/lib/python3.11/dist-packages (from gradio-client==1.8.0->gradio) (2025.3.2)\n",
            "Requirement already satisfied: websockets<16.0,>=10.0 in /usr/local/lib/python3.11/dist-packages (from gradio-client==1.8.0->gradio) (15.0.1)\n",
            "Requirement already satisfied: idna>=2.8 in /usr/local/lib/python3.11/dist-packages (from anyio<5.0,>=3.0->gradio) (3.10)\n",
            "Requirement already satisfied: sniffio>=1.1 in /usr/local/lib/python3.11/dist-packages (from anyio<5.0,>=3.0->gradio) (1.3.1)\n",
            "Requirement already satisfied: certifi in /usr/local/lib/python3.11/dist-packages (from httpx>=0.24.1->gradio) (2025.1.31)\n",
            "Requirement already satisfied: httpcore==1.* in /usr/local/lib/python3.11/dist-packages (from httpx>=0.24.1->gradio) (1.0.8)\n",
            "Requirement already satisfied: h11<0.15,>=0.13 in /usr/local/lib/python3.11/dist-packages (from httpcore==1.*->httpx>=0.24.1->gradio) (0.14.0)\n",
            "Requirement already satisfied: filelock in /usr/local/lib/python3.11/dist-packages (from huggingface-hub>=0.28.1->gradio) (3.18.0)\n",
            "Requirement already satisfied: requests in /usr/local/lib/python3.11/dist-packages (from huggingface-hub>=0.28.1->gradio) (2.32.3)\n",
            "Requirement already satisfied: tqdm>=4.42.1 in /usr/local/lib/python3.11/dist-packages (from huggingface-hub>=0.28.1->gradio) (4.67.1)\n",
            "Requirement already satisfied: python-dateutil>=2.8.2 in /usr/local/lib/python3.11/dist-packages (from pandas<3.0,>=1.0->gradio) (2.8.2)\n",
            "Requirement already satisfied: pytz>=2020.1 in /usr/local/lib/python3.11/dist-packages (from pandas<3.0,>=1.0->gradio) (2025.2)\n",
            "Requirement already satisfied: tzdata>=2022.7 in /usr/local/lib/python3.11/dist-packages (from pandas<3.0,>=1.0->gradio) (2025.2)\n",
            "Requirement already satisfied: annotated-types>=0.6.0 in /usr/local/lib/python3.11/dist-packages (from pydantic<2.12,>=2.0->gradio) (0.7.0)\n",
            "Requirement already satisfied: pydantic-core==2.33.1 in /usr/local/lib/python3.11/dist-packages (from pydantic<2.12,>=2.0->gradio) (2.33.1)\n",
            "Requirement already satisfied: typing-inspection>=0.4.0 in /usr/local/lib/python3.11/dist-packages (from pydantic<2.12,>=2.0->gradio) (0.4.0)\n",
            "Requirement already satisfied: click>=8.0.0 in /usr/local/lib/python3.11/dist-packages (from typer<1.0,>=0.12->gradio) (8.1.8)\n",
            "Requirement already satisfied: shellingham>=1.3.0 in /usr/local/lib/python3.11/dist-packages (from typer<1.0,>=0.12->gradio) (1.5.4)\n",
            "Requirement already satisfied: rich>=10.11.0 in /usr/local/lib/python3.11/dist-packages (from typer<1.0,>=0.12->gradio) (13.9.4)\n",
            "Requirement already satisfied: six>=1.5 in /usr/local/lib/python3.11/dist-packages (from python-dateutil>=2.8.2->pandas<3.0,>=1.0->gradio) (1.17.0)\n",
            "Requirement already satisfied: markdown-it-py>=2.2.0 in /usr/local/lib/python3.11/dist-packages (from rich>=10.11.0->typer<1.0,>=0.12->gradio) (3.0.0)\n",
            "Requirement already satisfied: pygments<3.0.0,>=2.13.0 in /usr/local/lib/python3.11/dist-packages (from rich>=10.11.0->typer<1.0,>=0.12->gradio) (2.18.0)\n",
            "Requirement already satisfied: charset-normalizer<4,>=2 in /usr/local/lib/python3.11/dist-packages (from requests->huggingface-hub>=0.28.1->gradio) (3.4.1)\n",
            "Requirement already satisfied: urllib3<3,>=1.21.1 in /usr/local/lib/python3.11/dist-packages (from requests->huggingface-hub>=0.28.1->gradio) (2.3.0)\n",
            "Requirement already satisfied: mdurl~=0.1 in /usr/local/lib/python3.11/dist-packages (from markdown-it-py>=2.2.0->rich>=10.11.0->typer<1.0,>=0.12->gradio) (0.1.2)\n"
          ]
        }
      ],
      "source": [
        "!pip install gradio\n",
        "import gradio as gr"
      ]
    },
    {
      "cell_type": "code",
      "source": [
        "# Atbash Cipher\n",
        "def atbash(text):\n",
        "    result = \"\"\n",
        "    for char in text:\n",
        "        if char.isalpha():\n",
        "            if char.islower():\n",
        "                result += chr(219 - ord(char))\n",
        "            else:\n",
        "                result += chr(155 - ord(char))\n",
        "        else:\n",
        "            result += char\n",
        "    return result\n",
        "\n",
        "# Vigenere Cipher\n",
        "def vigenere_encrypt(text, key):\n",
        "    text = text.upper()\n",
        "    key = key.upper()\n",
        "    result = \"\"\n",
        "    key_index = 0\n",
        "    for char in text:\n",
        "        if char.isalpha():\n",
        "            shift = ord(key[key_index]) - ord('A')\n",
        "            enc_char = chr((ord(char) - ord('A') + shift) % 26 + ord('A'))\n",
        "            result += enc_char\n",
        "            key_index = (key_index + 1) % len(key)\n",
        "        else:\n",
        "            result += char\n",
        "    return result\n",
        "\n",
        "def vigenere_decrypt(text, key):\n",
        "    text = text.upper()\n",
        "    key = key.upper()\n",
        "    result = \"\"\n",
        "    key_index = 0\n",
        "    for char in text:\n",
        "        if char.isalpha():\n",
        "            shift = ord(key[key_index]) - ord('A')\n",
        "            dec_char = chr((ord(char) - ord('A') - shift + 26) % 26 + ord('A'))\n",
        "            result += dec_char\n",
        "            key_index = (key_index + 1) % len(key)\n",
        "        else:\n",
        "            result += char\n",
        "    return result"
      ],
      "metadata": {
        "id": "h7NLS6IVBi1W"
      },
      "execution_count": null,
      "outputs": []
    },
    {
      "cell_type": "code",
      "source": [
        "def encrypt_combined(note, key):\n",
        "    atbash_text = atbash(note)\n",
        "    encrypted = vigenere_encrypt(atbash_text, key)\n",
        "    return encrypted\n",
        "\n",
        "def decrypt_combined(ciphertext, key):\n",
        "    vigenere_plain = vigenere_decrypt(ciphertext, key)\n",
        "    original = atbash(vigenere_plain)\n",
        "    return original"
      ],
      "metadata": {
        "id": "f63GmQaqBoDp"
      },
      "execution_count": null,
      "outputs": []
    },
    {
      "cell_type": "code",
      "source": [
        "# Daftar user sederhana (bisa ditambah)\n",
        "USER_CREDENTIALS = {\n",
        "    \"lucypev\": \"rahasialucy\",  # username: password\n",
        "}"
      ],
      "metadata": {
        "id": "5sXjjESj9WmA"
      },
      "execution_count": null,
      "outputs": []
    },
    {
      "cell_type": "code",
      "source": [
        "login_status = {\"is_logged_in\": False}"
      ],
      "metadata": {
        "id": "d0Z8Rr_v9iDf"
      },
      "execution_count": null,
      "outputs": []
    },
    {
      "cell_type": "code",
      "source": [
        "def login(username, password):\n",
        "    if username in USER_CREDENTIALS and USER_CREDENTIALS[username] == password:\n",
        "        login_status[\"is_logged_in\"] = True\n",
        "        return \"Login berhasil! 🎉 Silakan lanjutkan catatanmu.\", gr.update(visible=True)\n",
        "    else:\n",
        "        return \"Login gagal! 😢 Coba cek lagi username/password kamu.\", gr.update(visible=False)"
      ],
      "metadata": {
        "id": "C_vQQujp9qBI"
      },
      "execution_count": null,
      "outputs": []
    },
    {
      "cell_type": "code",
      "source": [
        "def proses_catatan(teks, kunci, mode):\n",
        "    if not login_status[\"is_logged_in\"]:\n",
        "        return \"Silakan login dulu yaaa\", None\n",
        "\n",
        "def proses_catatan(teks, kunci, mode):\n",
        "    if mode == \"Enkripsi\":\n",
        "        return encrypt_combined(teks, kunci)\n",
        "    else:\n",
        "        return decrypt_combined(teks, kunci)"
      ],
      "metadata": {
        "id": "vsAGd0vL92n-"
      },
      "execution_count": null,
      "outputs": []
    },
    {
      "source": [
        "with gr.Blocks() as demo:\n",
        "    gr.Markdown(\n",
        "    \"\"\"\n",
        "    <h1 style='text-align: center; color: #8e44ad;'>📝💖 My Notebook 💖📝</h1>\n",
        "    <p style='text-align: center; color: #2c3e50;'>Enkripsi catatanmu dengan kombinasi <b>Vigenère</b> & <b>Atbash Cipher</b> ✨</p>\n",
        "    \"\"\")\n",
        "    gr.Markdown(\"## 🔐 Login My Notebook\")\n",
        "    with gr.Row():\n",
        "      user = gr.Textbox(label=\"👤 Username\", placeholder=\"Masukkan username kamu...\")\n",
        "      passwd = gr.Textbox(label=\"🔒 Password\", placeholder=\"Masukkan password rahasia...\", type=\"password\")\n",
        "    login_btn = gr.Button(\"Login\")\n",
        "    login_msg = gr.Markdown()\n",
        "\n",
        "    # Form enkripsi/dekripsi disembunyikan dulu\n",
        "    with gr.Column(visible=False) as form:\n",
        "      gr.Markdown(\"<h2 style='color: #16a085;'>🔐 Enkripsi / Dekripsi Catatan Rahasia</h2>\")\n",
        "\n",
        "      teks = gr.Textbox(label=\"📄 Catatan / Teks\", placeholder=\"Tulis rahasia hatimu di sini...\")\n",
        "      kunci = gr.Textbox(label=\"🔑 Kunci (untuk Vigenère)\", placeholder=\"Masukkan kunci rahasia...\")\n",
        "      mode = gr.Radio([\"✨ Enkripsi\", \"🔓 Dekripsi\"], label=\"Mode Operasi\")\n",
        "\n",
        "      hasil = gr.Textbox(label=\"🎉 Hasil\", lines=4)\n",
        "      file_out = gr.File(label=\"📎 Download File Hasil (untuk Enkripsi)\")\n",
        "\n",
        "      proses_btn = gr.Button(\"🚀 Proses Sekarang!\", elem_id=\"proses-button\")\n",
        "\n",
        "    login_btn.click(fn=login, inputs=[user, passwd], outputs=[login_msg, form])\n",
        "    # Update the outputs to only include 'hasil' or include 'file_out' if you added it above\n",
        "    proses_btn.click(fn=proses_catatan, inputs=[teks, kunci, mode], outputs=[hasil])\n",
        "    # If using file_out: proses_btn.click(fn=proses_catatan, inputs=[teks, kunci, mode], outputs=[hasil, file_out])\n",
        "\n",
        "from IPython.display import display, HTML\n",
        "\n",
        "display(HTML('''\n",
        "<style>\n",
        "body {\n",
        "    background: linear-gradient(120deg, #f6e6ff, #e3f6ff);\n",
        "    font-family: 'Segoe UI', sans-serif;\n",
        "}\n",
        "\n",
        ".gradio-container {\n",
        "    background: transparent;\n",
        "    padding: 20px;\n",
        "    border-radius: 15px;\n",
        "}\n",
        "\n",
        "#proses-button {\n",
        "    background-color: #f39c12;\n",
        "    color: white;\n",
        "    font-weight: bold;\n",
        "    border-radius: 12px;\n",
        "    padding: 10px 20px;\n",
        "    font-size: 16px;\n",
        "}\n",
        "\n",
        "h1, h2, p {\n",
        "    color: #4a4a4a;\n",
        "}\n",
        "</style>\n",
        "'''))\n",
        "\n",
        "demo.launch()"
      ],
      "cell_type": "code",
      "metadata": {
        "colab": {
          "base_uri": "https://localhost:8080/",
          "height": 652
        },
        "id": "_nwdg149CShT",
        "outputId": "16d8b24a-7165-4aff-ba2e-7ac637db2ff0"
      },
      "execution_count": null,
      "outputs": [
        {
          "output_type": "display_data",
          "data": {
            "text/plain": [
              "<IPython.core.display.HTML object>"
            ],
            "text/html": [
              "\n",
              "<style>\n",
              "body {\n",
              "    background: linear-gradient(120deg, #f6e6ff, #e3f6ff);\n",
              "    font-family: 'Segoe UI', sans-serif;\n",
              "}\n",
              "\n",
              ".gradio-container {\n",
              "    background: transparent;\n",
              "    padding: 20px;\n",
              "    border-radius: 15px;\n",
              "}\n",
              "\n",
              "#proses-button {\n",
              "    background-color: #f39c12;\n",
              "    color: white;\n",
              "    font-weight: bold;\n",
              "    border-radius: 12px;\n",
              "    padding: 10px 20px;\n",
              "    font-size: 16px;\n",
              "}\n",
              "\n",
              "h1, h2, p {\n",
              "    color: #4a4a4a;\n",
              "}\n",
              "</style>\n"
            ]
          },
          "metadata": {}
        },
        {
          "output_type": "stream",
          "name": "stdout",
          "text": [
            "It looks like you are running Gradio on a hosted a Jupyter notebook. For the Gradio app to work, sharing must be enabled. Automatically setting `share=True` (you can turn this off by setting `share=False` in `launch()` explicitly).\n",
            "\n",
            "Colab notebook detected. To show errors in colab notebook, set debug=True in launch()\n",
            "* Running on public URL: https://0608e1856a358beeb8.gradio.live\n",
            "\n",
            "This share link expires in 1 week. For free permanent hosting and GPU upgrades, run `gradio deploy` from the terminal in the working directory to deploy to Hugging Face Spaces (https://huggingface.co/spaces)\n"
          ]
        },
        {
          "output_type": "display_data",
          "data": {
            "text/plain": [
              "<IPython.core.display.HTML object>"
            ],
            "text/html": [
              "<div><iframe src=\"https://0608e1856a358beeb8.gradio.live\" width=\"100%\" height=\"500\" allow=\"autoplay; camera; microphone; clipboard-read; clipboard-write;\" frameborder=\"0\" allowfullscreen></iframe></div>"
            ]
          },
          "metadata": {}
        },
        {
          "output_type": "execute_result",
          "data": {
            "text/plain": []
          },
          "metadata": {},
          "execution_count": 19
        }
      ]
    },
    {
      "cell_type": "code",
      "source": [
        "import gradio as gr\n",
        "\n",
        "def proses_catatan(teks, kunci, mode):\n",
        "    if mode == \"Enkripsi\":\n",
        "        return encrypt_combined(teks, kunci)\n",
        "    else:\n",
        "        return decrypt_combined(teks, kunci)\n",
        "\n",
        "demo = gr.Interface(\n",
        "    fn=proses_catatan,\n",
        "    inputs=[\n",
        "        gr.Textbox(label=\"Catatan / Teks\"),\n",
        "        gr.Textbox(label=\"Kunci (untuk Vigenere)\"),\n",
        "        gr.Radio([\"Enkripsi\", \"Dekripsi\"], label=\"Mode\")\n",
        "    ],\n",
        "    outputs=\"text\",\n",
        "    title=\"My Notebook 🔐\",\n",
        "    description=\"Menggunakan kombinasi Atbash dan Vigenère Cipher untuk enkripsi dan dekripsi catatan pribadi.\"\n",
        ")\n",
        "\n",
        "demo.launch()"
      ],
      "metadata": {
        "id": "YyW9CPCYBuxE",
        "outputId": "60bd4fac-341f-4260-8ac5-dda73a2ebd55",
        "colab": {
          "base_uri": "https://localhost:8080/",
          "height": 647
        }
      },
      "execution_count": null,
      "outputs": [
        {
          "output_type": "stream",
          "name": "stdout",
          "text": [
            "It looks like you are running Gradio on a hosted a Jupyter notebook. For the Gradio app to work, sharing must be enabled. Automatically setting `share=True` (you can turn this off by setting `share=False` in `launch()` explicitly).\n",
            "\n",
            "Colab notebook detected. To show errors in colab notebook, set debug=True in launch()\n",
            "* Running on public URL: https://9c81f3d4eeca2d8849.gradio.live\n",
            "\n",
            "This share link expires in 1 week. For free permanent hosting and GPU upgrades, run `gradio deploy` from the terminal in the working directory to deploy to Hugging Face Spaces (https://huggingface.co/spaces)\n"
          ]
        },
        {
          "output_type": "display_data",
          "data": {
            "text/plain": [
              "<IPython.core.display.HTML object>"
            ],
            "text/html": [
              "<div><iframe src=\"https://9c81f3d4eeca2d8849.gradio.live\" width=\"100%\" height=\"500\" allow=\"autoplay; camera; microphone; clipboard-read; clipboard-write;\" frameborder=\"0\" allowfullscreen></iframe></div>"
            ]
          },
          "metadata": {}
        },
        {
          "output_type": "execute_result",
          "data": {
            "text/plain": []
          },
          "metadata": {},
          "execution_count": 10
        }
      ]
    },
    {
      "cell_type": "code",
      "source": [],
      "metadata": {
        "id": "PMW0UXVP8TKb"
      },
      "execution_count": null,
      "outputs": []
    }
  ]
}